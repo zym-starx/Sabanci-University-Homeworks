{
  "nbformat": 4,
  "nbformat_minor": 0,
  "metadata": {
    "colab": {
      "name": "CS210 Term Project Progress Report.ipynb",
      "provenance": [],
      "collapsed_sections": [
        "CR1yfM1AMo3t",
        "7iqQXh-dmQHb"
      ],
      "toc_visible": true
    },
    "kernelspec": {
      "name": "python3",
      "display_name": "Python 3"
    }
  },
  "cells": [
    {
      "cell_type": "markdown",
      "metadata": {
        "id": "Apt_Zrahp4I4"
      },
      "source": [
        "# Basketball Teams and Leagues Project - Group ID: 7\n",
        "\n",
        "Group Members:\n",
        "\n",
        "Ali Arda Girgin (26993)\n",
        "\n",
        "Efe Alpay (22417)\n",
        "\n",
        "Eren Mutlu (25284)\n",
        "\n",
        "Kamil Atakan Çelikyürek (26896)\n"
      ]
    },
    {
      "cell_type": "markdown",
      "metadata": {
        "id": "6b2zVBsqsnJM"
      },
      "source": [
        "## Introduction\n",
        "\n",
        "In basketball leagues; most of the time, the teams have a star player during the seasonal games which can be considered as having more possession than other teammates. If the star player in a team has a better percentage of FGM/FGA than the star players among the other teams in their league is more likely to be successful/champion. The main purpose of this project is to examine the success of a team among the others in a basketball league.\n",
        " "
      ]
    },
    {
      "cell_type": "markdown",
      "metadata": {
        "id": "CR1yfM1AMo3t"
      },
      "source": [
        "### Problem Definition\n",
        "\n",
        "We defined a term \"Player Point\" as ((FGM x 2) + (3PM x 3) / (FGA x 2) + (3PA x 3)) for star player of each team.\n",
        "\n",
        "With this research our aim is to determine a star player for each team (we considered the star player as the player that have the most \"Player Point\" in a team) and corralate his \"Player Point\" among other star players in the whole season by making investigations in the data of FGA (i.e. Field Goals Attempt), FGM (i.e. Field Goals Made), 3PA (i.e. Three Points Attempt), 3PM (i.e. Three Points Made) and the data of champions and runner-ups of that season.\n",
        "\n",
        "The order the of this research as follows:\n",
        "\n",
        "Determine a star player for each team among seasons\n",
        "\n",
        "Find the \"Player Point\" of each star player that we found\n",
        "\n",
        "Find champions and runner-ups per season (championsdata and runnerupsdata)\n",
        "\n",
        "Comparing the star players of the champions and the runner-ups per season.\n",
        "\n",
        "Determine whether the star player of champion team is better than from the star player of runner-up team or not and compare stats of both players"
      ]
    },
    {
      "cell_type": "markdown",
      "metadata": {
        "id": "ccLYOFN4Mxgj"
      },
      "source": [
        "### Utilized Datasets\n",
        "\n",
        "We have several data sets. \n",
        "\n",
        "The first data set that are we going to use is \"Basketball Teams and Leagues\" which includes the stats of each player (e.g. FGM, FGA) for all leagues (e.g. NBA, Euroleague). We will only use the \"NBA League\".\n",
        "\n",
        "First Data Link: ​https://www.kaggle.com/jacobbaruch/basketball-players-stats-per-season-49-leagues\n",
        "\n",
        "\n",
        "The second and the third of the data that we are going to use is \"NBA Champions and Runner-ups\" which includes the champions and runner-ups for each season.\n",
        "\n",
        "Second & Third Data Link: https://www.kaggle.com/daverosenman/nba-finals-team-stats"
      ]
    },
    {
      "cell_type": "code",
      "metadata": {
        "id": "gjLXPaWsUB4H",
        "colab": {
          "base_uri": "https://localhost:8080/"
        },
        "outputId": "0f897f68-70aa-4e58-838a-e6b1d4f1d329"
      },
      "source": [
        "# Importing data from Google Drive\n",
        "from google.colab import drive\n",
        "drive.mount(\"./drive\")\n",
        "path_prefix = \"./drive/My Drive/Colab Folder/cs210_term_project\""
      ],
      "execution_count": 214,
      "outputs": [
        {
          "output_type": "stream",
          "text": [
            "Drive already mounted at ./drive; to attempt to forcibly remount, call drive.mount(\"./drive\", force_remount=True).\n"
          ],
          "name": "stdout"
        }
      ]
    },
    {
      "cell_type": "code",
      "metadata": {
        "id": "qca6tSHGUGmT"
      },
      "source": [
        "# Loading modules\n",
        "import pandas as pd\n",
        "import numpy as np\n",
        "import matplotlib.pyplot as plt\n",
        "from os.path import join\n",
        "%matplotlib inline"
      ],
      "execution_count": 215,
      "outputs": []
    },
    {
      "cell_type": "code",
      "metadata": {
        "id": "p7K8EbHWUIAx"
      },
      "source": [
        "# Reading data that imported from Google Drive\n",
        "filename_first_data = \"players_stats_by_season_full_details.csv\"\n",
        "filename_second_data = \"championsdata.csv\"\n",
        "filename_third_data = \"runnerupsdata.csv\"\n",
        "first_dataframe = pd.read_csv(join(path_prefix, filename_first_data))\n",
        "second_dataframe = pd.read_csv(join(path_prefix, filename_second_data))\n",
        "third_dataframe = pd.read_csv(join(path_prefix, filename_third_data))"
      ],
      "execution_count": 216,
      "outputs": []
    },
    {
      "cell_type": "code",
      "metadata": {
        "colab": {
          "base_uri": "https://localhost:8080/",
          "height": 299
        },
        "id": "lkJjJEX7H4M9",
        "outputId": "9cf3762f-0e39-48ad-cb9b-d4b3275fc6f1"
      },
      "source": [
        "# Arranging first data\r\n",
        "players_dataframe = first_dataframe[first_dataframe[\"League\"] == \"NBA\"]\r\n",
        "players_dataframe = players_dataframe[players_dataframe[\"Stage\"] == \"Regular_Season\"]\r\n",
        "players_dataframe = players_dataframe.drop([\"League\", \"Stage\"], axis = 1)\r\n",
        "list_of_seasons = [\"1999 - 2000\", \"2000 - 2001\", \"2001 - 2002\", \"2002 - 2003\", \"2003 - 2004\", \"2004 - 2005\", \"2005 - 2006\", \"2006 - 2007\", \"2007 - 2008\", \"2008 - 2009\",\r\n",
        "                   \"2009 - 2010\", \"2010 - 2011\", \"2011 - 2012\", \"2012 - 2013\", \"2013 - 2014\", \"2014 - 2015\", \"2015 - 2016\", \"2016 - 2017\", \"2017 - 2018\"]\r\n",
        "players_dataframe = players_dataframe[players_dataframe[\"Season\"].apply(lambda x : x in list_of_seasons)]\r\n",
        "players_dataframe.head(4)"
      ],
      "execution_count": 217,
      "outputs": [
        {
          "output_type": "execute_result",
          "data": {
            "text/html": [
              "<div>\n",
              "<style scoped>\n",
              "    .dataframe tbody tr th:only-of-type {\n",
              "        vertical-align: middle;\n",
              "    }\n",
              "\n",
              "    .dataframe tbody tr th {\n",
              "        vertical-align: top;\n",
              "    }\n",
              "\n",
              "    .dataframe thead th {\n",
              "        text-align: right;\n",
              "    }\n",
              "</style>\n",
              "<table border=\"1\" class=\"dataframe\">\n",
              "  <thead>\n",
              "    <tr style=\"text-align: right;\">\n",
              "      <th></th>\n",
              "      <th>Season</th>\n",
              "      <th>Player</th>\n",
              "      <th>Team</th>\n",
              "      <th>GP</th>\n",
              "      <th>MIN</th>\n",
              "      <th>FGM</th>\n",
              "      <th>FGA</th>\n",
              "      <th>3PM</th>\n",
              "      <th>3PA</th>\n",
              "      <th>FTM</th>\n",
              "      <th>FTA</th>\n",
              "      <th>TOV</th>\n",
              "      <th>PF</th>\n",
              "      <th>ORB</th>\n",
              "      <th>DRB</th>\n",
              "      <th>REB</th>\n",
              "      <th>AST</th>\n",
              "      <th>STL</th>\n",
              "      <th>BLK</th>\n",
              "      <th>PTS</th>\n",
              "      <th>birth_year</th>\n",
              "      <th>birth_month</th>\n",
              "      <th>birth_date</th>\n",
              "      <th>height</th>\n",
              "      <th>height_cm</th>\n",
              "      <th>weight</th>\n",
              "      <th>weight_kg</th>\n",
              "      <th>nationality</th>\n",
              "      <th>high_school</th>\n",
              "      <th>draft_round</th>\n",
              "      <th>draft_pick</th>\n",
              "      <th>draft_team</th>\n",
              "    </tr>\n",
              "  </thead>\n",
              "  <tbody>\n",
              "    <tr>\n",
              "      <th>0</th>\n",
              "      <td>1999 - 2000</td>\n",
              "      <td>Shaquille O'Neal</td>\n",
              "      <td>LAL</td>\n",
              "      <td>79</td>\n",
              "      <td>3163.0</td>\n",
              "      <td>956</td>\n",
              "      <td>1665</td>\n",
              "      <td>0</td>\n",
              "      <td>1</td>\n",
              "      <td>432</td>\n",
              "      <td>824</td>\n",
              "      <td>223</td>\n",
              "      <td>255</td>\n",
              "      <td>336</td>\n",
              "      <td>742</td>\n",
              "      <td>1078</td>\n",
              "      <td>299</td>\n",
              "      <td>36</td>\n",
              "      <td>239</td>\n",
              "      <td>2344</td>\n",
              "      <td>1972.0</td>\n",
              "      <td>Mar</td>\n",
              "      <td>Mar 6, 1972</td>\n",
              "      <td>7-1</td>\n",
              "      <td>216.0</td>\n",
              "      <td>325.0</td>\n",
              "      <td>147.0</td>\n",
              "      <td>United States</td>\n",
              "      <td>Robert G. Cole High School</td>\n",
              "      <td>1.0</td>\n",
              "      <td>1.0</td>\n",
              "      <td>Orlando Magic</td>\n",
              "    </tr>\n",
              "    <tr>\n",
              "      <th>1</th>\n",
              "      <td>1999 - 2000</td>\n",
              "      <td>Vince Carter</td>\n",
              "      <td>TOR</td>\n",
              "      <td>82</td>\n",
              "      <td>3126.0</td>\n",
              "      <td>788</td>\n",
              "      <td>1696</td>\n",
              "      <td>95</td>\n",
              "      <td>236</td>\n",
              "      <td>436</td>\n",
              "      <td>551</td>\n",
              "      <td>178</td>\n",
              "      <td>263</td>\n",
              "      <td>150</td>\n",
              "      <td>326</td>\n",
              "      <td>476</td>\n",
              "      <td>322</td>\n",
              "      <td>110</td>\n",
              "      <td>92</td>\n",
              "      <td>2107</td>\n",
              "      <td>1977.0</td>\n",
              "      <td>Jan</td>\n",
              "      <td>Jan 26, 1977</td>\n",
              "      <td>6-6</td>\n",
              "      <td>198.0</td>\n",
              "      <td>220.0</td>\n",
              "      <td>100.0</td>\n",
              "      <td>United States</td>\n",
              "      <td>Mainland High School</td>\n",
              "      <td>1.0</td>\n",
              "      <td>5.0</td>\n",
              "      <td>Golden State Warriors</td>\n",
              "    </tr>\n",
              "    <tr>\n",
              "      <th>2</th>\n",
              "      <td>1999 - 2000</td>\n",
              "      <td>Karl Malone</td>\n",
              "      <td>UTA</td>\n",
              "      <td>82</td>\n",
              "      <td>2947.0</td>\n",
              "      <td>752</td>\n",
              "      <td>1476</td>\n",
              "      <td>2</td>\n",
              "      <td>8</td>\n",
              "      <td>589</td>\n",
              "      <td>739</td>\n",
              "      <td>231</td>\n",
              "      <td>229</td>\n",
              "      <td>169</td>\n",
              "      <td>610</td>\n",
              "      <td>779</td>\n",
              "      <td>304</td>\n",
              "      <td>79</td>\n",
              "      <td>71</td>\n",
              "      <td>2095</td>\n",
              "      <td>1963.0</td>\n",
              "      <td>Jul</td>\n",
              "      <td>Jul 24, 1963</td>\n",
              "      <td>6-9</td>\n",
              "      <td>206.0</td>\n",
              "      <td>265.0</td>\n",
              "      <td>120.0</td>\n",
              "      <td>United States</td>\n",
              "      <td>Summerfield High School</td>\n",
              "      <td>1.0</td>\n",
              "      <td>13.0</td>\n",
              "      <td>Utah Jazz</td>\n",
              "    </tr>\n",
              "    <tr>\n",
              "      <th>3</th>\n",
              "      <td>1999 - 2000</td>\n",
              "      <td>Allen Iverson</td>\n",
              "      <td>PHI</td>\n",
              "      <td>70</td>\n",
              "      <td>2853.0</td>\n",
              "      <td>729</td>\n",
              "      <td>1733</td>\n",
              "      <td>89</td>\n",
              "      <td>261</td>\n",
              "      <td>442</td>\n",
              "      <td>620</td>\n",
              "      <td>230</td>\n",
              "      <td>162</td>\n",
              "      <td>71</td>\n",
              "      <td>196</td>\n",
              "      <td>267</td>\n",
              "      <td>328</td>\n",
              "      <td>144</td>\n",
              "      <td>5</td>\n",
              "      <td>1989</td>\n",
              "      <td>1975.0</td>\n",
              "      <td>Jun</td>\n",
              "      <td>Jun 7, 1975</td>\n",
              "      <td>6-0</td>\n",
              "      <td>183.0</td>\n",
              "      <td>165.0</td>\n",
              "      <td>75.0</td>\n",
              "      <td>United States</td>\n",
              "      <td>Bethel High School</td>\n",
              "      <td>1.0</td>\n",
              "      <td>1.0</td>\n",
              "      <td>Philadelphia Sixers</td>\n",
              "    </tr>\n",
              "  </tbody>\n",
              "</table>\n",
              "</div>"
            ],
            "text/plain": [
              "        Season            Player  ... draft_pick             draft_team\n",
              "0  1999 - 2000  Shaquille O'Neal  ...        1.0          Orlando Magic\n",
              "1  1999 - 2000      Vince Carter  ...        5.0  Golden State Warriors\n",
              "2  1999 - 2000       Karl Malone  ...       13.0              Utah Jazz\n",
              "3  1999 - 2000     Allen Iverson  ...        1.0    Philadelphia Sixers\n",
              "\n",
              "[4 rows x 32 columns]"
            ]
          },
          "metadata": {
            "tags": []
          },
          "execution_count": 217
        }
      ]
    },
    {
      "cell_type": "code",
      "metadata": {
        "id": "QxSx0yEp79gO"
      },
      "source": [
        "# Forming dictionary for converting teams to abbreviations of the second and third data\r\n",
        "teams_abbreviations_dictionary = {\"Lakers\": \"LAL\", \"Pacers\": \"IND\", \"Sixers\": \"PHI\", \"Nets\": \"NJN\",\r\n",
        "                                  \"Spurs\": \"SAS\", \"Pistons\": \"DET\", \"Heat\": \"MIA\", \"Mavericks\": \"DAL\",\r\n",
        "                                  \"Cavaliers\": \"CLE\", \"Celtics\": \"BOS\", \"Magic\": \"ORL\", \"Thunder\": \"OKC\",\r\n",
        "                                  \"'Heat'\": \"MIA\", \"Warriors\": \"GSW\"}"
      ],
      "execution_count": 218,
      "outputs": []
    },
    {
      "cell_type": "code",
      "metadata": {
        "id": "p6OkTAsGMiGb"
      },
      "source": [
        "# Arranging second data and forming the champions data with respect to years\r\n",
        "second_dataframe = second_dataframe[second_dataframe[\"Year\"] >= 2000]\r\n",
        "champions_year_team_dict = {}\r\n",
        "for index, row in second_dataframe.iterrows():\r\n",
        "  if row[\"Year\"] not in champions_year_team_dict.keys():\r\n",
        "    string = str(row[\"Year\"] - 1) + \" - \" + str(row[\"Year\"])\r\n",
        "    champions_year_team_dict[string] = row[\"Team\"]"
      ],
      "execution_count": 219,
      "outputs": []
    },
    {
      "cell_type": "code",
      "metadata": {
        "id": "cVVjCpcJPwL8"
      },
      "source": [
        "# Arranging third data and forming the runner-ups data with respect to years\r\n",
        "third_dataframe = third_dataframe[third_dataframe[\"Year\"] >= 2000]\r\n",
        "runnerups_year_team_dict = {}\r\n",
        "for index, row in third_dataframe.iterrows():\r\n",
        "  if row[\"Year\"] not in runnerups_year_team_dict.keys():\r\n",
        "    string = str(row[\"Year\"] - 1) + \" - \" + str(row[\"Year\"])\r\n",
        "    runnerups_year_team_dict[string] = row[\"Team\"]"
      ],
      "execution_count": 220,
      "outputs": []
    },
    {
      "cell_type": "code",
      "metadata": {
        "id": "pu1QkOe0mFmW"
      },
      "source": [
        "# Storing the data of season list\r\n",
        "list_of_years_traning_data = list(champions_year_team_dict.keys())\r\n",
        "list_of_years_test_data = [\"2014 - 2015\", \"2015 - 2016\", \"2016 - 2017\", \"2017 - 2018\"]\r\n",
        "list_of_years_traning_data.remove(\"2014 - 2015\")\r\n",
        "list_of_years_traning_data.remove(\"2015 - 2016\")\r\n",
        "list_of_years_traning_data.remove(\"2016 - 2017\")\r\n",
        "list_of_years_traning_data.remove(\"2017 - 2018\")"
      ],
      "execution_count": 221,
      "outputs": []
    },
    {
      "cell_type": "code",
      "metadata": {
        "colab": {
          "base_uri": "https://localhost:8080/",
          "height": 206
        },
        "id": "Od6JNpg0c00L",
        "outputId": "6a95088e-0363-491c-b7d7-410aed5f30c7"
      },
      "source": [
        "# Combining second and third data and forming a dataframe\r\n",
        "champions_runnerups_dataframe = pd.DataFrame(champions_year_team_dict.keys(), columns = [\"Years\"])\r\n",
        "champions_runnerups_dataframe[\"Champions\"] = champions_year_team_dict.values()\r\n",
        "champions_runnerups_dataframe[\"Runnerups\"] = runnerups_year_team_dict.values()\r\n",
        "champions_runnerups_dataframe = champions_runnerups_dataframe.set_index(\"Years\")\r\n",
        "champions_runnerups_dataframe.head(4)"
      ],
      "execution_count": 222,
      "outputs": [
        {
          "output_type": "execute_result",
          "data": {
            "text/html": [
              "<div>\n",
              "<style scoped>\n",
              "    .dataframe tbody tr th:only-of-type {\n",
              "        vertical-align: middle;\n",
              "    }\n",
              "\n",
              "    .dataframe tbody tr th {\n",
              "        vertical-align: top;\n",
              "    }\n",
              "\n",
              "    .dataframe thead th {\n",
              "        text-align: right;\n",
              "    }\n",
              "</style>\n",
              "<table border=\"1\" class=\"dataframe\">\n",
              "  <thead>\n",
              "    <tr style=\"text-align: right;\">\n",
              "      <th></th>\n",
              "      <th>Champions</th>\n",
              "      <th>Runnerups</th>\n",
              "    </tr>\n",
              "    <tr>\n",
              "      <th>Years</th>\n",
              "      <th></th>\n",
              "      <th></th>\n",
              "    </tr>\n",
              "  </thead>\n",
              "  <tbody>\n",
              "    <tr>\n",
              "      <th>1999 - 2000</th>\n",
              "      <td>Lakers</td>\n",
              "      <td>Pacers</td>\n",
              "    </tr>\n",
              "    <tr>\n",
              "      <th>2000 - 2001</th>\n",
              "      <td>Lakers</td>\n",
              "      <td>Sixers</td>\n",
              "    </tr>\n",
              "    <tr>\n",
              "      <th>2001 - 2002</th>\n",
              "      <td>Lakers</td>\n",
              "      <td>Nets</td>\n",
              "    </tr>\n",
              "    <tr>\n",
              "      <th>2002 - 2003</th>\n",
              "      <td>Spurs</td>\n",
              "      <td>Nets</td>\n",
              "    </tr>\n",
              "  </tbody>\n",
              "</table>\n",
              "</div>"
            ],
            "text/plain": [
              "            Champions Runnerups\n",
              "Years                          \n",
              "1999 - 2000    Lakers    Pacers\n",
              "2000 - 2001    Lakers    Sixers\n",
              "2001 - 2002    Lakers      Nets\n",
              "2002 - 2003     Spurs      Nets"
            ]
          },
          "metadata": {
            "tags": []
          },
          "execution_count": 222
        }
      ]
    },
    {
      "cell_type": "markdown",
      "metadata": {
        "id": "0renYEDcLpE9"
      },
      "source": [
        "## Data Exploration\r\n",
        "\r\n",
        "We preprocessed the raw data priorly, and we are going to process the data in such a manner that we can use."
      ]
    },
    {
      "cell_type": "code",
      "metadata": {
        "id": "EeJBVtoBMB2V"
      },
      "source": [
        "# Discarding the players that have less points than the mean\r\n",
        "players_dataframe = players_dataframe[players_dataframe[\"FGA\"] >= players_dataframe[\"FGA\"].mean()]\r\n",
        "\r\n",
        "# Calculating point for each player\r\n",
        "players_dataframe[\"Player Point\"] = ((players_dataframe[\"FGM\"] * 2) + (players_dataframe[\"3PM\"] * 3)) / ((players_dataframe[\"FGA\"] * 2) + (players_dataframe[\"3PA\"] * 3))"
      ],
      "execution_count": 223,
      "outputs": []
    },
    {
      "cell_type": "code",
      "metadata": {
        "id": "Zz-Rz6f1WdID"
      },
      "source": [
        "# Forming an empty dictionary to store truthness of the hypothesis for each season\r\n",
        "hypothesis_truthness_counts = [0, 0]\r\n",
        "\r\n",
        "# Finding the actual results of the training data\r\n",
        "list_of_actual_outcome_training_data = []\r\n",
        "\r\n",
        "# Iterating over the years to perform hypothesis on each season\r\n",
        "for season in list_of_years_traning_data:\r\n",
        "  current_season_champion = champions_runnerups_dataframe.loc[season, \"Champions\"]\r\n",
        "  current_season_runnerup = champions_runnerups_dataframe.loc[season, \"Runnerups\"]\r\n",
        "  players_of_champion = players_dataframe[(players_dataframe[\"Season\"] == season) & (players_dataframe[\"Team\"] == teams_abbreviations_dictionary[current_season_champion])]\r\n",
        "  players_of_champion = players_of_champion[[\"Player\", \"Player Point\"]].sort_values(by = \"Player Point\", ascending = False)\r\n",
        "  players_of_champion = players_of_champion.reset_index(drop = True)\r\n",
        "  players_of_runnerup = players_dataframe[(players_dataframe[\"Season\"] == season) & (players_dataframe[\"Team\"] == teams_abbreviations_dictionary[current_season_runnerup])]\r\n",
        "  players_of_runnerup = players_of_runnerup[[\"Player\", \"Player Point\"]].sort_values(by = \"Player Point\", ascending = False)\r\n",
        "  players_of_runnerup = players_of_runnerup.reset_index(drop = True)\r\n",
        "  if players_of_champion.iloc[0, 1] > players_of_runnerup.iloc[0, 1]:\r\n",
        "    list_of_actual_outcome_training_data.append(1)\r\n",
        "    hypothesis_truthness_counts[0] += 1\r\n",
        "  else:\r\n",
        "    list_of_actual_outcome_training_data.append(0)\r\n",
        "    hypothesis_truthness_counts[1] += 1"
      ],
      "execution_count": 224,
      "outputs": []
    },
    {
      "cell_type": "code",
      "metadata": {
        "colab": {
          "base_uri": "https://localhost:8080/",
          "height": 281
        },
        "id": "geHC0AHBlbUI",
        "outputId": "1c425b7e-d383-4762-8a9f-220ac30b55a0"
      },
      "source": [
        "# Visualizing the results\r\n",
        "plt.bar([\"Hypothesis Holds\", \"Hypothesis Fails\"], hypothesis_truthness_counts)\r\n",
        "plt.title(\"Hypothesis Analysis\")\r\n",
        "plt.ylabel(\"Number of Occurences\")\r\n",
        "plt.show()"
      ],
      "execution_count": 226,
      "outputs": [
        {
          "output_type": "display_data",
          "data": {
            "image/png": "[encoded data removed]",
            "text/plain": [
              "<Figure size 432x288 with 1 Axes>"
            ]
          },
          "metadata": {
            "tags": [],
            "needs_background": "light"
          }
        }
      ]
    },
    {
      "cell_type": "markdown",
      "metadata": {
        "id": "kuMZJ1CVkiz0"
      },
      "source": [
        "## Machine Learning Models\r\n",
        "\r\n",
        "In this part, we tried Decision Tree Algorithm for our data. We have 19 seasons in \"NBA\", thus we separated them into 15 seasons for the trainig part of the Machine Learning and then use it to predict next 4 seasons. After we implemented those, we got 75% accuracy."
      ]
    },
    {
      "cell_type": "markdown",
      "metadata": {
        "id": "17lSoMtptu8n"
      },
      "source": [
        "### Implementation"
      ]
    },
    {
      "cell_type": "code",
      "metadata": {
        "id": "2Ld0SL-gvMYg"
      },
      "source": [
        "# Loading Machine Learning modules\r\n",
        "from sklearn import tree"
      ],
      "execution_count": 227,
      "outputs": []
    },
    {
      "cell_type": "code",
      "metadata": {
        "id": "Ous_F1uAzIZ4"
      },
      "source": [
        "# Creating empty dataframe for the training data\r\n",
        "champion_mvp_df = pd.DataFrame(columns = [\"Season\", \"Player Name\", \"Player Point\", \"Age\"])\r\n",
        "list_of_champion_mvp_seasons = []\r\n",
        "list_of_champion_mvp_names = []\r\n",
        "list_of_champion_mvp_playerPoint = []\r\n",
        "list_of_champion_mvp_birthYear = []\r\n",
        "for season in list_of_years_traning_data:\r\n",
        "  current_season_champion = champions_runnerups_dataframe.loc[season, \"Champions\"]\r\n",
        "  players_of_champion = players_dataframe[(players_dataframe[\"Season\"] == season) & (players_dataframe[\"Team\"] == teams_abbreviations_dictionary[current_season_champion])]\r\n",
        "  players_of_champion = players_of_champion[[\"Season\", \"Player\", \"Player Point\", \"birth_year\"]].sort_values(by = \"Player Point\", ascending = False)\r\n",
        "  players_of_champion = players_of_champion.reset_index(drop = True)\r\n",
        "  list_of_champion_mvp_seasons.append(players_of_champion.iloc[0, 0])\r\n",
        "  list_of_champion_mvp_names.append(players_of_champion.iloc[0, 1])\r\n",
        "  list_of_champion_mvp_playerPoint.append(players_of_champion.iloc[0, 2])\r\n",
        "  list_of_champion_mvp_birthYear.append(int(int(season[0:4]) - players_of_champion.iloc[0, 3]))\r\n",
        "champion_mvp_df[\"Season\"] = list_of_champion_mvp_seasons\r\n",
        "champion_mvp_df[\"Player Name\"] = list_of_champion_mvp_names\r\n",
        "champion_mvp_df[\"Player Point\"] = list_of_champion_mvp_playerPoint\r\n",
        "champion_mvp_df[\"Age\"] = list_of_champion_mvp_birthYear\r\n",
        "champion_mvp_df = champion_mvp_df.set_index(\"Season\")"
      ],
      "execution_count": 228,
      "outputs": []
    },
    {
      "cell_type": "code",
      "metadata": {
        "id": "mRqQOBMn5ys3"
      },
      "source": [
        "# Creating empty dataframe for the test datas\r\n",
        "champion_mvp_df_predict = pd.DataFrame(columns = [\"Season\", \"Player Name\", \"Player Point\", \"Age\"])\r\n",
        "list_of_champion_mvp_seasons_predict = []\r\n",
        "list_of_champion_mvp_names_predict = []\r\n",
        "list_of_champion_mvp_playerPoint_predict = []\r\n",
        "list_of_champion_mvp_birthYear_predict = []\r\n",
        "for season in list_of_years_test_data:\r\n",
        "  current_season_champion_predict = champions_runnerups_dataframe.loc[season, \"Champions\"]\r\n",
        "  players_of_champion_predict = players_dataframe[(players_dataframe[\"Season\"] == season) & (players_dataframe[\"Team\"] == teams_abbreviations_dictionary[current_season_champion_predict])]\r\n",
        "  players_of_champion_predict = players_of_champion_predict[[\"Season\", \"Player\", \"Player Point\", \"birth_year\"]].sort_values(by = \"Player Point\", ascending = False)\r\n",
        "  players_of_champion_predict = players_of_champion_predict.reset_index(drop = True)\r\n",
        "  list_of_champion_mvp_seasons_predict.append(players_of_champion_predict.iloc[0, 0])\r\n",
        "  list_of_champion_mvp_names_predict.append(players_of_champion_predict.iloc[0, 1])\r\n",
        "  list_of_champion_mvp_playerPoint_predict.append(players_of_champion_predict.iloc[0, 2])\r\n",
        "  list_of_champion_mvp_birthYear_predict.append(int(int(season[0:4]) - players_of_champion_predict.iloc[0, 3]))\r\n",
        "champion_mvp_df_predict[\"Season\"] = list_of_champion_mvp_seasons_predict\r\n",
        "champion_mvp_df_predict[\"Player Name\"] = list_of_champion_mvp_names_predict\r\n",
        "champion_mvp_df_predict[\"Player Point\"] = list_of_champion_mvp_playerPoint_predict\r\n",
        "champion_mvp_df_predict[\"Age\"] = list_of_champion_mvp_birthYear_predict\r\n",
        "champion_mvp_df_predict = champion_mvp_df_predict.set_index(\"Season\")"
      ],
      "execution_count": 229,
      "outputs": []
    },
    {
      "cell_type": "code",
      "metadata": {
        "id": "OULaGBPt1zmv"
      },
      "source": [
        "# Converting training dataframe to the list that we can implement into the \"fit\" method\r\n",
        "features = []\r\n",
        "for label, row in champion_mvp_df.iterrows():\r\n",
        "  features.append([row[\"Player Point\"], row[\"Age\"]])\r\n",
        "\r\n",
        "# Converting test dataframe to the list that we can implement into the \"predict\" method\r\n",
        "predicts = []\r\n",
        "for label, row in champion_mvp_df_predict.iterrows():\r\n",
        "  predicts.append([row[\"Player Point\"], row[\"Age\"]])"
      ],
      "execution_count": 230,
      "outputs": []
    },
    {
      "cell_type": "code",
      "metadata": {
        "id": "hWpD4WJ21YPi"
      },
      "source": [
        "# Training part of the Decision Tree Algorithm\r\n",
        "ml_algorithm = tree.DecisionTreeClassifier()\r\n",
        "ml_algorithm = ml_algorithm.fit(features, list_of_actual_outcome_training_data)"
      ],
      "execution_count": 231,
      "outputs": []
    },
    {
      "cell_type": "code",
      "metadata": {
        "id": "DbBOjXiqFlKF"
      },
      "source": [
        "# Implementation for the visualization part of the teams after the predicting of machine learning\r\n",
        "champion_runnerup_list = []\r\n",
        "for label, row in champions_runnerups_dataframe.iterrows():\r\n",
        "  if label in list_of_years_test_data:\r\n",
        "    champion_runnerup_list.append([row[\"Champions\"], row[\"Runnerups\"]])"
      ],
      "execution_count": 232,
      "outputs": []
    },
    {
      "cell_type": "code",
      "metadata": {
        "id": "igUZ1oVYQ0yQ"
      },
      "source": [
        "# Finding the actual results of the test data\r\n",
        "list_of_actual_outcome_test_data = []\r\n",
        "for season in list_of_years_test_data:\r\n",
        "  current_season_champion = champions_runnerups_dataframe.loc[season, \"Champions\"]\r\n",
        "  current_season_runnerup = champions_runnerups_dataframe.loc[season, \"Runnerups\"]\r\n",
        "  players_of_champion = players_dataframe[(players_dataframe[\"Season\"] == season) & (players_dataframe[\"Team\"] == teams_abbreviations_dictionary[current_season_champion])]\r\n",
        "  players_of_champion = players_of_champion[[\"Player\", \"Player Point\"]].sort_values(by = \"Player Point\", ascending = False)\r\n",
        "  players_of_champion = players_of_champion.reset_index(drop = True)\r\n",
        "  players_of_runnerup = players_dataframe[(players_dataframe[\"Season\"] == season) & (players_dataframe[\"Team\"] == teams_abbreviations_dictionary[current_season_runnerup])]\r\n",
        "  players_of_runnerup = players_of_runnerup[[\"Player\", \"Player Point\"]].sort_values(by = \"Player Point\", ascending = False)\r\n",
        "  players_of_runnerup = players_of_runnerup.reset_index(drop = True)\r\n",
        "  if players_of_champion.iloc[0, 1] > players_of_runnerup.iloc[0, 1]:\r\n",
        "    list_of_actual_outcome_test_data.append(1)\r\n",
        "  else:\r\n",
        "    list_of_actual_outcome_test_data.append(0)"
      ],
      "execution_count": 233,
      "outputs": []
    },
    {
      "cell_type": "code",
      "metadata": {
        "colab": {
          "base_uri": "https://localhost:8080/"
        },
        "id": "sEwAQLMz5t8j",
        "outputId": "f0801975-c599-4fb8-8a0f-098c64902c6e"
      },
      "source": [
        "# Visualization of the outcomes\r\n",
        "all_possibilites = len(predicts)\r\n",
        "count_of_true_predict = 0\r\n",
        "for each_predict_index in range(len(predicts)):\r\n",
        "  print(\"Season:\", list_of_years_test_data[each_predict_index])\r\n",
        "  if (ml_algorithm.predict([predicts[each_predict_index]])[0] == list_of_actual_outcome_test_data[each_predict_index]):\r\n",
        "    print(\"Expected Outcome: \", champion_runnerup_list[each_predict_index][0], sep = \"\")\r\n",
        "    count_of_true_predict += 1\r\n",
        "  else:\r\n",
        "    print(\"Expected Outcome: \", champion_runnerup_list[each_predict_index][1], sep = \"\")\r\n",
        "  print(\"Actual Outcome:   \", champion_runnerup_list[each_predict_index][0], \"\\n\", sep = \"\")"
      ],
      "execution_count": 234,
      "outputs": [
        {
          "output_type": "stream",
          "text": [
            "Season: 2014 - 2015\n",
            "Expected Outcome: Cavaliers\n",
            "Actual Outcome:   Warriors\n",
            "\n",
            "Season: 2015 - 2016\n",
            "Expected Outcome: Cavaliers\n",
            "Actual Outcome:   Cavaliers\n",
            "\n",
            "Season: 2016 - 2017\n",
            "Expected Outcome: Warriors\n",
            "Actual Outcome:   Warriors\n",
            "\n",
            "Season: 2017 - 2018\n",
            "Expected Outcome: Warriors\n",
            "Actual Outcome:   Warriors\n",
            "\n"
          ],
          "name": "stdout"
        }
      ]
    },
    {
      "cell_type": "code",
      "metadata": {
        "colab": {
          "base_uri": "https://localhost:8080/"
        },
        "id": "MiVG2SaSMgKV",
        "outputId": "2f81f08c-b69a-4ef7-fca2-86b028df2ac4"
      },
      "source": [
        "# Accuracy of our Decision Tree Algorithm\r\n",
        "accuracy_of_ml = (count_of_true_predict / all_possibilites) * 100\r\n",
        "print(\"Accuracy of the Decision Tree Algorithm: \", accuracy_of_ml, \"%\", sep = \"\")"
      ],
      "execution_count": 236,
      "outputs": [
        {
          "output_type": "stream",
          "text": [
            "Accuracy of the Decision Tree Algorithm: 75.0%\n"
          ],
          "name": "stdout"
        }
      ]
    },
    {
      "cell_type": "markdown",
      "metadata": {
        "id": "7iqQXh-dmQHb"
      },
      "source": [
        "## Future Work\r\n",
        "\r\n",
        "Firstly, we are going to extend our data because we need data as we need to increase the accuracy of our Machine Learning model. Then, we are going to complete Machine Learning methods we tried and give a brief conclusion about the project. Also, we will revise all the parts throughout the project. "
      ]
    },
    {
      "cell_type": "markdown",
      "metadata": {
        "id": "iuBH6DnamP-H"
      },
      "source": [
        "## Work Division\r\n",
        "\r\n",
        "Ali Arda Girgin: Implementing the Introduction part, determining problem and utilizing the data for Data Exploration\r\n",
        "\r\n",
        "Efe Alpay: Determining problem and utilizing the data for Data Exploration\r\n",
        "\r\n",
        "Eren Mutlu: Searching about Machine Learning Algorithms and trying them\r\n",
        "\r\n",
        "Kamil Atakan Çelikyürek: Coding part of the Data Exploration"
      ]
    }
  ]
}