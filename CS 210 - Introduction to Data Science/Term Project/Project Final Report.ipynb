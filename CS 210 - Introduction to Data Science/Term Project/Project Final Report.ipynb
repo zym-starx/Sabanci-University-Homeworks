{
  "nbformat": 4,
  "nbformat_minor": 0,
  "metadata": {
    "colab": {
      "name": "CS210 Term Project Final Report.ipynb",
      "provenance": [],
      "collapsed_sections": [
        "CR1yfM1AMo3t"
      ],
      "toc_visible": true
    },
    "kernelspec": {
      "name": "python3",
      "display_name": "Python 3"
    }
  },
  "cells": [
    {
      "cell_type": "markdown",
      "metadata": {
        "id": "Apt_Zrahp4I4"
      },
      "source": [
        "# Basketball Teams and Leagues Project - Group ID: 7\n",
        "\n",
        "Group Members:\n",
        "\n",
        "Ali Arda Girgin (26993)\n",
        "\n",
        "Efe Alpay (22417)\n",
        "\n",
        "Eren Mutlu (25284)\n",
        "\n",
        "Kamil Atakan Çelikyürek (26896)\n"
      ]
    },
    {
      "cell_type": "markdown",
      "metadata": {
        "id": "6b2zVBsqsnJM"
      },
      "source": [
        "## Introduction\n",
        "\n",
        "In basketball leagues; most of the time, the teams have a star player during the seasonal games which can be considered as having more possession than other teammates. If the star player in a team has a better percentage of FGM/FGA than the star players among the other teams in their league is more likely to be successful/champion. The main purpose of this project is to examine the success of a team among the others in a basketball league.\n",
        " "
      ]
    },
    {
      "cell_type": "markdown",
      "metadata": {
        "id": "CR1yfM1AMo3t"
      },
      "source": [
        "### Problem Definition\n",
        "\n",
        "We defined a term \"Player Point\" as ((FGM x 2) + (3PM x 3) / (FGA x 2) + (3PA x 3)) for star player of each team.\n",
        "\n",
        "With this research our aim is to determine a star player for each team (we considered the star player as the player that have the most \"Player Point\" in a team) and corralate his \"Player Point\" among other star players in the whole season by making investigations in the data of FGA (i.e. Field Goals Attempt), FGM (i.e. Field Goals Made), 3PA (i.e. Three Points Attempt), 3PM (i.e. Three Points Made) and the data of champions and runner-ups of that season.\n",
        "\n",
        "The order the of this research as follows:\n",
        "\n",
        "Determine a star player for each team among seasons\n",
        "\n",
        "Find the \"Player Point\" of each star player that we found\n",
        "\n",
        "Find champions and runner-ups per season (championsdata and runnerupsdata)\n",
        "\n",
        "Comparing the star players of the champions and the runner-ups per season.\n",
        "\n",
        "Determine whether the star player of champion team is better than from the star player of runner-up team or not and compare stats of both players"
      ]
    },
    {
      "cell_type": "markdown",
      "metadata": {
        "id": "ccLYOFN4Mxgj"
      },
      "source": [
        "### Utilized Datasets\n",
        "\n",
        "We have several data sets. \n",
        "\n",
        "The first data set that are we going to use is \"Basketball Teams and Leagues\" which includes the stats of each player (e.g. FGM, FGA) for all leagues (e.g. NBA, Euroleague). We will only use the \"NBA League\".\n",
        "\n",
        "First Data Link: ​https://www.kaggle.com/jacobbaruch/basketball-players-stats-per-season-49-leagues\n",
        "\n",
        "\n",
        "The second and the third of the data that we are going to use is \"NBA Champions and Runner-ups\" which includes the champions and runner-ups for each season.\n",
        "\n",
        "Second & Third Data Link: https://www.kaggle.com/daverosenman/nba-finals-team-stats"
      ]
    },
    {
      "cell_type": "code",
      "metadata": {
        "id": "gjLXPaWsUB4H",
        "colab": {
          "base_uri": "https://localhost:8080/"
        },
        "outputId": "1fd09cc7-b8da-4121-e189-f4d02b970b00"
      },
      "source": [
        "# Importing data from Google Drive\n",
        "from google.colab import drive\n",
        "drive.mount(\"./drive\")\n",
        "path_prefix = \"./drive/My Drive/Colab Folder/cs210_term_project\""
      ],
      "execution_count": null,
      "outputs": [
        {
          "output_type": "stream",
          "text": [
            "Mounted at ./drive\n"
          ],
          "name": "stdout"
        }
      ]
    },
    {
      "cell_type": "code",
      "metadata": {
        "id": "qca6tSHGUGmT"
      },
      "source": [
        "# Loading modules\n",
        "import pandas as pd\n",
        "import numpy as np\n",
        "import matplotlib.pyplot as plt\n",
        "from os.path import join\n",
        "%matplotlib inline"
      ],
      "execution_count": null,
      "outputs": []
    },
    {
      "cell_type": "code",
      "metadata": {
        "id": "p7K8EbHWUIAx"
      },
      "source": [
        "# Reading data that imported from Google Drive\n",
        "filename_first_data = \"players_stats_by_season_full_details.csv\"\n",
        "filename_second_data = \"championsdata.csv\"\n",
        "filename_third_data = \"runnerupsdata.csv\"\n",
        "first_dataframe = pd.read_csv(join(path_prefix, filename_first_data))\n",
        "second_dataframe = pd.read_csv(join(path_prefix, filename_second_data))\n",
        "third_dataframe = pd.read_csv(join(path_prefix, filename_third_data))"
      ],
      "execution_count": null,
      "outputs": []
    },
    {
      "cell_type": "code",
      "metadata": {
        "colab": {
          "base_uri": "https://localhost:8080/",
          "height": 250
        },
        "id": "lkJjJEX7H4M9",
        "outputId": "2458dfdc-4dad-4fa3-fcf2-30d46bc56962"
      },
      "source": [
        "# Arranging first data for the hypothesis part\r\n",
        "players_dataframe = first_dataframe[first_dataframe[\"League\"] == \"NBA\"]\r\n",
        "players_dataframe = players_dataframe[players_dataframe[\"Stage\"] == \"Regular_Season\"]\r\n",
        "players_dataframe = players_dataframe.drop([\"League\", \"Stage\"], axis = 1)\r\n",
        "list_of_seasons = [\"1999 - 2000\", \"2000 - 2001\", \"2001 - 2002\", \"2002 - 2003\", \"2003 - 2004\", \"2004 - 2005\", \"2005 - 2006\", \"2006 - 2007\", \"2007 - 2008\", \"2008 - 2009\",\r\n",
        "                   \"2009 - 2010\", \"2010 - 2011\", \"2011 - 2012\", \"2012 - 2013\", \"2013 - 2014\", \"2014 - 2015\", \"2015 - 2016\", \"2016 - 2017\", \"2017 - 2018\"]\r\n",
        "players_dataframe = players_dataframe[players_dataframe[\"Season\"].apply(lambda x : x in list_of_seasons)]\r\n",
        "players_dataframe.head(3)"
      ],
      "execution_count": null,
      "outputs": [
        {
          "output_type": "execute_result",
          "data": {
            "text/html": [
              "<div>\n",
              "<style scoped>\n",
              "    .dataframe tbody tr th:only-of-type {\n",
              "        vertical-align: middle;\n",
              "    }\n",
              "\n",
              "    .dataframe tbody tr th {\n",
              "        vertical-align: top;\n",
              "    }\n",
              "\n",
              "    .dataframe thead th {\n",
              "        text-align: right;\n",
              "    }\n",
              "</style>\n",
              "<table border=\"1\" class=\"dataframe\">\n",
              "  <thead>\n",
              "    <tr style=\"text-align: right;\">\n",
              "      <th></th>\n",
              "      <th>Season</th>\n",
              "      <th>Player</th>\n",
              "      <th>Team</th>\n",
              "      <th>GP</th>\n",
              "      <th>MIN</th>\n",
              "      <th>FGM</th>\n",
              "      <th>FGA</th>\n",
              "      <th>3PM</th>\n",
              "      <th>3PA</th>\n",
              "      <th>FTM</th>\n",
              "      <th>FTA</th>\n",
              "      <th>TOV</th>\n",
              "      <th>PF</th>\n",
              "      <th>ORB</th>\n",
              "      <th>DRB</th>\n",
              "      <th>REB</th>\n",
              "      <th>AST</th>\n",
              "      <th>STL</th>\n",
              "      <th>BLK</th>\n",
              "      <th>PTS</th>\n",
              "      <th>birth_year</th>\n",
              "      <th>birth_month</th>\n",
              "      <th>birth_date</th>\n",
              "      <th>height</th>\n",
              "      <th>height_cm</th>\n",
              "      <th>weight</th>\n",
              "      <th>weight_kg</th>\n",
              "      <th>nationality</th>\n",
              "      <th>high_school</th>\n",
              "      <th>draft_round</th>\n",
              "      <th>draft_pick</th>\n",
              "      <th>draft_team</th>\n",
              "    </tr>\n",
              "  </thead>\n",
              "  <tbody>\n",
              "    <tr>\n",
              "      <th>0</th>\n",
              "      <td>1999 - 2000</td>\n",
              "      <td>Shaquille O'Neal</td>\n",
              "      <td>LAL</td>\n",
              "      <td>79</td>\n",
              "      <td>3163.0</td>\n",
              "      <td>956</td>\n",
              "      <td>1665</td>\n",
              "      <td>0</td>\n",
              "      <td>1</td>\n",
              "      <td>432</td>\n",
              "      <td>824</td>\n",
              "      <td>223</td>\n",
              "      <td>255</td>\n",
              "      <td>336</td>\n",
              "      <td>742</td>\n",
              "      <td>1078</td>\n",
              "      <td>299</td>\n",
              "      <td>36</td>\n",
              "      <td>239</td>\n",
              "      <td>2344</td>\n",
              "      <td>1972.0</td>\n",
              "      <td>Mar</td>\n",
              "      <td>Mar 6, 1972</td>\n",
              "      <td>7-1</td>\n",
              "      <td>216.0</td>\n",
              "      <td>325.0</td>\n",
              "      <td>147.0</td>\n",
              "      <td>United States</td>\n",
              "      <td>Robert G. Cole High School</td>\n",
              "      <td>1.0</td>\n",
              "      <td>1.0</td>\n",
              "      <td>Orlando Magic</td>\n",
              "    </tr>\n",
              "    <tr>\n",
              "      <th>1</th>\n",
              "      <td>1999 - 2000</td>\n",
              "      <td>Vince Carter</td>\n",
              "      <td>TOR</td>\n",
              "      <td>82</td>\n",
              "      <td>3126.0</td>\n",
              "      <td>788</td>\n",
              "      <td>1696</td>\n",
              "      <td>95</td>\n",
              "      <td>236</td>\n",
              "      <td>436</td>\n",
              "      <td>551</td>\n",
              "      <td>178</td>\n",
              "      <td>263</td>\n",
              "      <td>150</td>\n",
              "      <td>326</td>\n",
              "      <td>476</td>\n",
              "      <td>322</td>\n",
              "      <td>110</td>\n",
              "      <td>92</td>\n",
              "      <td>2107</td>\n",
              "      <td>1977.0</td>\n",
              "      <td>Jan</td>\n",
              "      <td>Jan 26, 1977</td>\n",
              "      <td>6-6</td>\n",
              "      <td>198.0</td>\n",
              "      <td>220.0</td>\n",
              "      <td>100.0</td>\n",
              "      <td>United States</td>\n",
              "      <td>Mainland High School</td>\n",
              "      <td>1.0</td>\n",
              "      <td>5.0</td>\n",
              "      <td>Golden State Warriors</td>\n",
              "    </tr>\n",
              "    <tr>\n",
              "      <th>2</th>\n",
              "      <td>1999 - 2000</td>\n",
              "      <td>Karl Malone</td>\n",
              "      <td>UTA</td>\n",
              "      <td>82</td>\n",
              "      <td>2947.0</td>\n",
              "      <td>752</td>\n",
              "      <td>1476</td>\n",
              "      <td>2</td>\n",
              "      <td>8</td>\n",
              "      <td>589</td>\n",
              "      <td>739</td>\n",
              "      <td>231</td>\n",
              "      <td>229</td>\n",
              "      <td>169</td>\n",
              "      <td>610</td>\n",
              "      <td>779</td>\n",
              "      <td>304</td>\n",
              "      <td>79</td>\n",
              "      <td>71</td>\n",
              "      <td>2095</td>\n",
              "      <td>1963.0</td>\n",
              "      <td>Jul</td>\n",
              "      <td>Jul 24, 1963</td>\n",
              "      <td>6-9</td>\n",
              "      <td>206.0</td>\n",
              "      <td>265.0</td>\n",
              "      <td>120.0</td>\n",
              "      <td>United States</td>\n",
              "      <td>Summerfield High School</td>\n",
              "      <td>1.0</td>\n",
              "      <td>13.0</td>\n",
              "      <td>Utah Jazz</td>\n",
              "    </tr>\n",
              "  </tbody>\n",
              "</table>\n",
              "</div>"
            ],
            "text/plain": [
              "        Season            Player  ... draft_pick             draft_team\n",
              "0  1999 - 2000  Shaquille O'Neal  ...        1.0          Orlando Magic\n",
              "1  1999 - 2000      Vince Carter  ...        5.0  Golden State Warriors\n",
              "2  1999 - 2000       Karl Malone  ...       13.0              Utah Jazz\n",
              "\n",
              "[3 rows x 32 columns]"
            ]
          },
          "metadata": {
            "tags": []
          },
          "execution_count": 11
        }
      ]
    },
    {
      "cell_type": "markdown",
      "metadata": {
        "id": "mpjcD2i0HpIj"
      },
      "source": [
        "<font color = \"brown\">\r\n",
        "<font size = 4px>\r\n",
        "As it can easily seen in the dataframe, we restricted the years in between 1999 and 2018. Also, we just worked on NBA's regular season games.\r\n",
        "</font>\r\n"
      ]
    },
    {
      "cell_type": "code",
      "metadata": {
        "id": "p6OkTAsGMiGb"
      },
      "source": [
        "# Arranging second data and forming the champions data with respect to years\r\n",
        "second_dataframe = second_dataframe[second_dataframe[\"Year\"] >= 2000]\r\n",
        "champions_year_team_dict = {}\r\n",
        "for index, row in second_dataframe.iterrows():\r\n",
        "  if row[\"Year\"] not in champions_year_team_dict.keys():\r\n",
        "    string = str(row[\"Year\"] - 1) + \" - \" + str(row[\"Year\"])\r\n",
        "    champions_year_team_dict[string] = row[\"Team\"]"
      ],
      "execution_count": null,
      "outputs": []
    },
    {
      "cell_type": "code",
      "metadata": {
        "id": "cVVjCpcJPwL8"
      },
      "source": [
        "# Arranging third data and forming the runner-ups data with respect to years\r\n",
        "third_dataframe = third_dataframe[third_dataframe[\"Year\"] >= 2000]\r\n",
        "runnerups_year_team_dict = {}\r\n",
        "for index, row in third_dataframe.iterrows():\r\n",
        "  if row[\"Year\"] not in runnerups_year_team_dict.keys():\r\n",
        "    string = str(row[\"Year\"] - 1) + \" - \" + str(row[\"Year\"])\r\n",
        "    runnerups_year_team_dict[string] = row[\"Team\"]"
      ],
      "execution_count": null,
      "outputs": []
    },
    {
      "cell_type": "code",
      "metadata": {
        "id": "pu1QkOe0mFmW"
      },
      "source": [
        "# Storing the data of season list\r\n",
        "list_of_years = list(champions_year_team_dict.keys())"
      ],
      "execution_count": null,
      "outputs": []
    },
    {
      "cell_type": "code",
      "metadata": {
        "id": "Od6JNpg0c00L"
      },
      "source": [
        "# Combining second and third data and forming a dataframe\r\n",
        "champions_runnerups_dataframe = pd.DataFrame(champions_year_team_dict.keys(), columns = [\"Years\"])\r\n",
        "champions_runnerups_dataframe[\"Champions\"] = champions_year_team_dict.values()\r\n",
        "champions_runnerups_dataframe[\"Runnerups\"] = runnerups_year_team_dict.values()\r\n",
        "champions_runnerups_dataframe = champions_runnerups_dataframe.set_index(\"Years\")"
      ],
      "execution_count": null,
      "outputs": []
    },
    {
      "cell_type": "code",
      "metadata": {
        "colab": {
          "base_uri": "https://localhost:8080/",
          "height": 269
        },
        "id": "bnUrMxCmWDfj",
        "outputId": "32b88d83-5f41-493e-8e74-35fa1b012fc5"
      },
      "source": [
        "# Forming dictionary for converting teams to abbreviations of the second and third data\r\n",
        "teams_abbreviations_dictionary = {\"Lakers\": \"LAL\", \"Pacers\": \"IND\", \"Sixers\": \"PHI\", \"Nets\": \"NJN\",\r\n",
        "                                  \"Spurs\": \"SAS\", \"Pistons\": \"DET\", \"Heat\": \"MIA\", \"Mavericks\": \"DAL\",\r\n",
        "                                  \"Cavaliers\": \"CLE\", \"Celtics\": \"BOS\", \"Magic\": \"ORL\", \"Thunder\": \"OKC\",\r\n",
        "                                  \"'Heat'\": \"MIA\", \"Warriors\": \"GSW\"}\r\n",
        "\r\n",
        "# Implementing the dictionary on the data\r\n",
        "champions_runnerups_dataframe[\"Champions\"] = champions_runnerups_dataframe[\"Champions\"].apply(lambda x : teams_abbreviations_dictionary[x])\r\n",
        "champions_runnerups_dataframe[\"Runnerups\"] = champions_runnerups_dataframe[\"Runnerups\"].apply(lambda x : teams_abbreviations_dictionary[x])\r\n",
        "champions_runnerups_dataframe.head(6)"
      ],
      "execution_count": null,
      "outputs": [
        {
          "output_type": "execute_result",
          "data": {
            "text/html": [
              "<div>\n",
              "<style scoped>\n",
              "    .dataframe tbody tr th:only-of-type {\n",
              "        vertical-align: middle;\n",
              "    }\n",
              "\n",
              "    .dataframe tbody tr th {\n",
              "        vertical-align: top;\n",
              "    }\n",
              "\n",
              "    .dataframe thead th {\n",
              "        text-align: right;\n",
              "    }\n",
              "</style>\n",
              "<table border=\"1\" class=\"dataframe\">\n",
              "  <thead>\n",
              "    <tr style=\"text-align: right;\">\n",
              "      <th></th>\n",
              "      <th>Champions</th>\n",
              "      <th>Runnerups</th>\n",
              "    </tr>\n",
              "    <tr>\n",
              "      <th>Years</th>\n",
              "      <th></th>\n",
              "      <th></th>\n",
              "    </tr>\n",
              "  </thead>\n",
              "  <tbody>\n",
              "    <tr>\n",
              "      <th>1999 - 2000</th>\n",
              "      <td>LAL</td>\n",
              "      <td>IND</td>\n",
              "    </tr>\n",
              "    <tr>\n",
              "      <th>2000 - 2001</th>\n",
              "      <td>LAL</td>\n",
              "      <td>PHI</td>\n",
              "    </tr>\n",
              "    <tr>\n",
              "      <th>2001 - 2002</th>\n",
              "      <td>LAL</td>\n",
              "      <td>NJN</td>\n",
              "    </tr>\n",
              "    <tr>\n",
              "      <th>2002 - 2003</th>\n",
              "      <td>SAS</td>\n",
              "      <td>NJN</td>\n",
              "    </tr>\n",
              "    <tr>\n",
              "      <th>2003 - 2004</th>\n",
              "      <td>DET</td>\n",
              "      <td>LAL</td>\n",
              "    </tr>\n",
              "    <tr>\n",
              "      <th>2004 - 2005</th>\n",
              "      <td>SAS</td>\n",
              "      <td>DET</td>\n",
              "    </tr>\n",
              "  </tbody>\n",
              "</table>\n",
              "</div>"
            ],
            "text/plain": [
              "            Champions Runnerups\n",
              "Years                          \n",
              "1999 - 2000       LAL       IND\n",
              "2000 - 2001       LAL       PHI\n",
              "2001 - 2002       LAL       NJN\n",
              "2002 - 2003       SAS       NJN\n",
              "2003 - 2004       DET       LAL\n",
              "2004 - 2005       SAS       DET"
            ]
          },
          "metadata": {
            "tags": []
          },
          "execution_count": 16
        }
      ]
    },
    {
      "cell_type": "markdown",
      "metadata": {
        "id": "qTUwB1WuLJfY"
      },
      "source": [
        "<font color = \"brown\">\r\n",
        "<font size = 4px>\r\n",
        "This visualization shown on top is about the champions & runnerups season by season.\r\n",
        "</font>"
      ]
    },
    {
      "cell_type": "markdown",
      "metadata": {
        "id": "0renYEDcLpE9"
      },
      "source": [
        "## Data Exploration\r\n",
        "\r\n",
        "We preprocessed the raw data priorly, and we processed the data in such a manner that we can use.\r\n",
        "\r\n",
        "We compared the star players of champion and runnerup team as we want to conclude the amount that hypothesis holds. To acquire, we counted the years whether our hypothesis holds or fails.\r\n",
        "\r\n",
        "We showed our results in bar charts below."
      ]
    },
    {
      "cell_type": "code",
      "metadata": {
        "id": "EeJBVtoBMB2V"
      },
      "source": [
        "# Discarding the players that have less points than the mean\r\n",
        "players_dataframe = players_dataframe[players_dataframe[\"FGA\"] >= players_dataframe[\"FGA\"].mean()]\r\n",
        "\r\n",
        "# Calculating point for each player\r\n",
        "players_dataframe[\"Player Point\"] = ((players_dataframe[\"FGM\"] * 2) + (players_dataframe[\"3PM\"] * 3)) / ((players_dataframe[\"FGA\"] * 2) + (players_dataframe[\"3PA\"] * 3))"
      ],
      "execution_count": null,
      "outputs": []
    },
    {
      "cell_type": "code",
      "metadata": {
        "id": "Zz-Rz6f1WdID"
      },
      "source": [
        "# Forming an empty dictionary to store truthness of the hypothesis for each season\r\n",
        "hypothesis_truthness_counts = [0, 0]\r\n",
        "\r\n",
        "# Forming lists for visualization\r\n",
        "list_of_players_champion_player_name = []\r\n",
        "list_of_players_champion_player_point = []\r\n",
        "list_of_players_runnerup_player_name = []\r\n",
        "list_of_players_runnerup_player_point = []\r\n",
        "\r\n",
        "# Iterating over the years to perform hypothesis on each season\r\n",
        "for season in list_of_years:\r\n",
        "  current_season_champion = champions_runnerups_dataframe.loc[season, \"Champions\"]\r\n",
        "  current_season_runnerup = champions_runnerups_dataframe.loc[season, \"Runnerups\"]\r\n",
        "  players_of_champion = players_dataframe[(players_dataframe[\"Season\"] == season) & (players_dataframe[\"Team\"] == current_season_champion)]\r\n",
        "  players_of_champion = players_of_champion[[\"Player\", \"Player Point\"]].sort_values(by = \"Player Point\", ascending = False)\r\n",
        "  players_of_champion = players_of_champion.reset_index(drop = True)\r\n",
        "  players_of_runnerup = players_dataframe[(players_dataframe[\"Season\"] == season) & (players_dataframe[\"Team\"] == current_season_runnerup)]\r\n",
        "  players_of_runnerup = players_of_runnerup[[\"Player\", \"Player Point\"]].sort_values(by = \"Player Point\", ascending = False)\r\n",
        "  players_of_runnerup = players_of_runnerup.reset_index(drop = True)\r\n",
        "  list_of_players_champion_player_name.append(players_of_champion.iloc[0, 0])\r\n",
        "  list_of_players_champion_player_point.append(players_of_champion.iloc[0, 1])\r\n",
        "  list_of_players_runnerup_player_name.append(players_of_runnerup.iloc[0, 0])\r\n",
        "  list_of_players_runnerup_player_point.append(players_of_runnerup.iloc[0, 1])\r\n",
        "  if players_of_champion.iloc[0, 1] > players_of_runnerup.iloc[0, 1]:\r\n",
        "    hypothesis_truthness_counts[0] += 1\r\n",
        "  else:\r\n",
        "    hypothesis_truthness_counts[1] += 1"
      ],
      "execution_count": null,
      "outputs": []
    },
    {
      "cell_type": "code",
      "metadata": {
        "colab": {
          "base_uri": "https://localhost:8080/",
          "height": 281
        },
        "id": "geHC0AHBlbUI",
        "outputId": "03003ca4-8ceb-4362-e64f-4a55a3a8d67a"
      },
      "source": [
        "# Visualizing the results\r\n",
        "plt.bar([\"Hypothesis Holds\", \"Hypothesis Fails\"], hypothesis_truthness_counts)\r\n",
        "plt.title(\"Hypothesis Analysis\")\r\n",
        "plt.ylabel(\"Number of Occurences\")\r\n",
        "plt.show()"
      ],
      "execution_count": null,
      "outputs": [
        {
          "output_type": "display_data",
          "data": {
            "image/png": "[encoded data removed]",
            "text/plain": [
              "<Figure size 432x288 with 1 Axes>"
            ]
          },
          "metadata": {
            "tags": [],
            "needs_background": "light"
          }
        }
      ]
    },
    {
      "cell_type": "markdown",
      "metadata": {
        "id": "Gxkg2hlkLgli"
      },
      "source": [
        "<font color = \"brown\">\r\n",
        "<font size = 4px>\r\n",
        "The visualization on \"Hypothesis Analysis\" is about showing how frequently our hypothesis is the case. According the findings our hypothesis holds 13 times and failed 6 times, where it makes our hypothesis near 68 percent correct. It is much more less than we expected. We can conclude that our hypothesis is not comprehensive enough to match for all matches.\r\n",
        "</font>\r\n"
      ]
    },
    {
      "cell_type": "code",
      "metadata": {
        "colab": {
          "base_uri": "https://localhost:8080/",
          "height": 620
        },
        "id": "rriAgxUBaYjZ",
        "outputId": "bfc34126-918f-4ca0-f706-425ca52dbbcc"
      },
      "source": [
        "# Combining the names of champions and runnerups\r\n",
        "list_all_names = []\r\n",
        "for i in range(19):\r\n",
        "  list_all_names.append(list_of_players_champion_player_name[i] + \"\\n\\n\" + list_of_players_runnerup_player_name[i])\r\n",
        "\r\n",
        "# Visualizing the results (comparing players on final matches over seasons)\r\n",
        "fig = plt.figure()\r\n",
        "ax = fig.add_subplot(111)\r\n",
        "fig.set_size_inches(25, 8)\r\n",
        "champions = ax.bar(np.arange(19), list_of_players_champion_player_point, width = 0.35, color = 'lightblue')\r\n",
        "runnerups = ax.bar(np.arange(19) + 0.25, list_of_players_runnerup_player_point, width = 0.35, color = 'tomato')\r\n",
        "ax.set_xticks(np.arange(19))\r\n",
        "ax.set_xticklabels(list_all_names, rotation = 75)\r\n",
        "ax.set_title('Player Point Comparision on Finals per Season (1999 - 2018)\\n')\r\n",
        "ax.set_xlabel('Player Names')\r\n",
        "ax.set_ylabel('Player Point')\r\n",
        "ax.legend((champions, runnerups), (\"Champion\", \"Runnerup\"))\r\n",
        "plt.show()"
      ],
      "execution_count": null,
      "outputs": [
        {
          "output_type": "display_data",
          "data": {
            "image/png": "[encoded data removed]",
            "text/plain": [
              "<Figure size 1800x576 with 1 Axes>"
            ]
          },
          "metadata": {
            "tags": [],
            "needs_background": "light"
          }
        }
      ]
    },
    {
      "cell_type": "markdown",
      "metadata": {
        "id": "68hQNcY5M8OC"
      },
      "source": [
        "<font color = \"brown\">\r\n",
        "<font size = 4px>\r\n",
        "The visualization of \"Player Point Comparision on Finals per Season (1999 - 2018)\" is showing that our hypothesis fails in the last seasons mostly. It can also be inferred that in the last few years, the difference between player points less than compared the first years. Also, over the years in finals, player point of both star players are getting closer to each other.\r\n",
        "</font>"
      ]
    },
    {
      "cell_type": "markdown",
      "metadata": {
        "id": "kuMZJ1CVkiz0"
      },
      "source": [
        "## Machine Learning Models\r\n",
        "\r\n",
        "In this part, we implemented Decision Tree and Random Forest algorithms for our hypothesis. Also, we add another efficiency type that is currently using in NBA.\r\n",
        "Then we compared machine learning models for each efficiency type (one is our efficiency score, namely our player point, the other is NBA's efficiency score).\r\n",
        "\r\n",
        "NBA’s actual efficiency score is on a website \"https://www.basketball-reference.com/\".\r\n",
        "\r\n",
        "For this part of the project, we used all NBA players of our data."
      ]
    },
    {
      "cell_type": "markdown",
      "metadata": {
        "id": "17lSoMtptu8n"
      },
      "source": [
        "### Implementation"
      ]
    },
    {
      "cell_type": "code",
      "metadata": {
        "id": "2Ld0SL-gvMYg"
      },
      "source": [
        "# Loading Machine Learning modules\r\n",
        "import seaborn as sns\r\n",
        "from sklearn.tree import DecisionTreeClassifier\r\n",
        "from sklearn.ensemble import RandomForestClassifier\r\n",
        "from sklearn.model_selection import train_test_split\r\n",
        "from sklearn.metrics import accuracy_score\r\n",
        "from sklearn.model_selection import GridSearchCV\r\n",
        "from sklearn.metrics import confusion_matrix"
      ],
      "execution_count": null,
      "outputs": []
    },
    {
      "cell_type": "code",
      "metadata": {
        "id": "clszdSkiYBJX"
      },
      "source": [
        "# Preprocessing the data in a form that we can use\r\n",
        "ml_raw_dataframe = first_dataframe[first_dataframe[\"League\"] == \"NBA\"]\r\n",
        "ml_raw_dataframe = ml_raw_dataframe[[\"GP\", \"MIN\", \"Season\", \"birth_year\", \"PTS\", \"REB\", \"AST\", \"STL\", \"BLK\", \"FGA\", \"FGM\", \"FTA\", \"FTM\", \"TOV\", \"3PA\", \"3PM\"]]\r\n",
        "ml_raw_dataframe[\"EFF_our_approach\"] = (2 * ml_raw_dataframe[\"FGM\"] + 3 * ml_raw_dataframe[\"3PM\"]) / (2 * ml_raw_dataframe[\"FGA\"] + 3 * ml_raw_dataframe[\"3PA\"])\r\n",
        "ml_raw_dataframe[\"EFF_NBA_approach\"] = (ml_raw_dataframe[\"PTS\"] + ml_raw_dataframe[\"REB\"] + ml_raw_dataframe[\"AST\"] + ml_raw_dataframe[\"STL\"] + ml_raw_dataframe[\"BLK\"] - ((ml_raw_dataframe[\"FGA\"] - ml_raw_dataframe[\"FGM\"]) + (ml_raw_dataframe[\"FTA\"] - ml_raw_dataframe[\"FTM\"]) + ml_raw_dataframe[\"TOV\"]))\r\n",
        "ml_raw_dataframe[\"AGE\"] = ml_raw_dataframe[\"Season\"].apply(lambda x : int(x[7:])) - ml_raw_dataframe[\"birth_year\"]"
      ],
      "execution_count": null,
      "outputs": []
    },
    {
      "cell_type": "code",
      "metadata": {
        "colab": {
          "base_uri": "https://localhost:8080/",
          "height": 238
        },
        "id": "EJW8qKAlY-08",
        "outputId": "7fdc5316-24f1-465b-eaf6-eb5e41d01356"
      },
      "source": [
        "# Creating a new dataframe for to test machine learning algorithms on our approach\r\n",
        "ml_df_our_approach = ml_raw_dataframe\r\n",
        "ml_df_our_approach[\"eff_mean_exceed_our_approach\"] = ml_df_our_approach[\"EFF_our_approach\"] > ml_df_our_approach[\"EFF_our_approach\"].mean()\r\n",
        "ml_df_our_approach[\"eff_mean_exceed_our_approach\"] = ml_df_our_approach[\"eff_mean_exceed_our_approach\"].apply(lambda x : {True: 1, False: 0}[x])\r\n",
        "ml_df_our_approach = ml_df_our_approach[[\"GP\", \"MIN\", \"PTS\", \"AGE\", \"eff_mean_exceed_our_approach\"]]\r\n",
        "ml_df_our_approach.head(6)"
      ],
      "execution_count": null,
      "outputs": [
        {
          "output_type": "execute_result",
          "data": {
            "text/html": [
              "<div>\n",
              "<style scoped>\n",
              "    .dataframe tbody tr th:only-of-type {\n",
              "        vertical-align: middle;\n",
              "    }\n",
              "\n",
              "    .dataframe tbody tr th {\n",
              "        vertical-align: top;\n",
              "    }\n",
              "\n",
              "    .dataframe thead th {\n",
              "        text-align: right;\n",
              "    }\n",
              "</style>\n",
              "<table border=\"1\" class=\"dataframe\">\n",
              "  <thead>\n",
              "    <tr style=\"text-align: right;\">\n",
              "      <th></th>\n",
              "      <th>GP</th>\n",
              "      <th>MIN</th>\n",
              "      <th>PTS</th>\n",
              "      <th>AGE</th>\n",
              "      <th>eff_mean_exceed_our_approach</th>\n",
              "    </tr>\n",
              "  </thead>\n",
              "  <tbody>\n",
              "    <tr>\n",
              "      <th>0</th>\n",
              "      <td>79</td>\n",
              "      <td>3163.0</td>\n",
              "      <td>2344</td>\n",
              "      <td>28.0</td>\n",
              "      <td>1</td>\n",
              "    </tr>\n",
              "    <tr>\n",
              "      <th>1</th>\n",
              "      <td>82</td>\n",
              "      <td>3126.0</td>\n",
              "      <td>2107</td>\n",
              "      <td>23.0</td>\n",
              "      <td>1</td>\n",
              "    </tr>\n",
              "    <tr>\n",
              "      <th>2</th>\n",
              "      <td>82</td>\n",
              "      <td>2947.0</td>\n",
              "      <td>2095</td>\n",
              "      <td>37.0</td>\n",
              "      <td>1</td>\n",
              "    </tr>\n",
              "    <tr>\n",
              "      <th>3</th>\n",
              "      <td>70</td>\n",
              "      <td>2853.0</td>\n",
              "      <td>1989</td>\n",
              "      <td>25.0</td>\n",
              "      <td>0</td>\n",
              "    </tr>\n",
              "    <tr>\n",
              "      <th>4</th>\n",
              "      <td>82</td>\n",
              "      <td>3425.0</td>\n",
              "      <td>1982</td>\n",
              "      <td>32.0</td>\n",
              "      <td>0</td>\n",
              "    </tr>\n",
              "    <tr>\n",
              "      <th>5</th>\n",
              "      <td>82</td>\n",
              "      <td>3148.0</td>\n",
              "      <td>1939</td>\n",
              "      <td>26.0</td>\n",
              "      <td>0</td>\n",
              "    </tr>\n",
              "  </tbody>\n",
              "</table>\n",
              "</div>"
            ],
            "text/plain": [
              "   GP     MIN   PTS   AGE  eff_mean_exceed_our_approach\n",
              "0  79  3163.0  2344  28.0                             1\n",
              "1  82  3126.0  2107  23.0                             1\n",
              "2  82  2947.0  2095  37.0                             1\n",
              "3  70  2853.0  1989  25.0                             0\n",
              "4  82  3425.0  1982  32.0                             0\n",
              "5  82  3148.0  1939  26.0                             0"
            ]
          },
          "metadata": {
            "tags": []
          },
          "execution_count": 115
        }
      ]
    },
    {
      "cell_type": "markdown",
      "metadata": {
        "id": "m1W8EJfPbKDV"
      },
      "source": [
        "<font color = \"brown\">\r\n",
        "<font size = 4px>\r\n",
        "In the dataframe above, four of features and the binary representation that whether player point of our approach exceed its mean or not.  We are trying to learn whether our efficieny model is applicable or not.\r\n",
        "</font>"
      ]
    },
    {
      "cell_type": "code",
      "metadata": {
        "colab": {
          "base_uri": "https://localhost:8080/",
          "height": 238
        },
        "id": "3CJ5P-kXZAhR",
        "outputId": "31e3a1ef-abc8-47ad-a822-8b14f35a51f3"
      },
      "source": [
        "# Creating a new dataframe for to test machine learning algorithms on NBA's approach\r\n",
        "ml_df_NBA_approach = ml_raw_dataframe\r\n",
        "ml_df_NBA_approach[\"eff_mean_exceed_NBA_approach\"] = ml_df_NBA_approach[\"EFF_NBA_approach\"] > ml_df_NBA_approach[\"EFF_NBA_approach\"].mean()\r\n",
        "ml_df_NBA_approach[\"eff_mean_exceed_NBA_approach\"] = ml_df_NBA_approach[\"eff_mean_exceed_NBA_approach\"].apply(lambda x : {True: 1, False: 0}[x])\r\n",
        "ml_df_NBA_approach = ml_df_NBA_approach[[\"GP\", \"MIN\", \"PTS\", \"AGE\", \"eff_mean_exceed_NBA_approach\"]]\r\n",
        "ml_df_NBA_approach.head(6)"
      ],
      "execution_count": null,
      "outputs": [
        {
          "output_type": "execute_result",
          "data": {
            "text/html": [
              "<div>\n",
              "<style scoped>\n",
              "    .dataframe tbody tr th:only-of-type {\n",
              "        vertical-align: middle;\n",
              "    }\n",
              "\n",
              "    .dataframe tbody tr th {\n",
              "        vertical-align: top;\n",
              "    }\n",
              "\n",
              "    .dataframe thead th {\n",
              "        text-align: right;\n",
              "    }\n",
              "</style>\n",
              "<table border=\"1\" class=\"dataframe\">\n",
              "  <thead>\n",
              "    <tr style=\"text-align: right;\">\n",
              "      <th></th>\n",
              "      <th>GP</th>\n",
              "      <th>MIN</th>\n",
              "      <th>PTS</th>\n",
              "      <th>AGE</th>\n",
              "      <th>eff_mean_exceed_NBA_approach</th>\n",
              "    </tr>\n",
              "  </thead>\n",
              "  <tbody>\n",
              "    <tr>\n",
              "      <th>0</th>\n",
              "      <td>79</td>\n",
              "      <td>3163.0</td>\n",
              "      <td>2344</td>\n",
              "      <td>28.0</td>\n",
              "      <td>1</td>\n",
              "    </tr>\n",
              "    <tr>\n",
              "      <th>1</th>\n",
              "      <td>82</td>\n",
              "      <td>3126.0</td>\n",
              "      <td>2107</td>\n",
              "      <td>23.0</td>\n",
              "      <td>1</td>\n",
              "    </tr>\n",
              "    <tr>\n",
              "      <th>2</th>\n",
              "      <td>82</td>\n",
              "      <td>2947.0</td>\n",
              "      <td>2095</td>\n",
              "      <td>37.0</td>\n",
              "      <td>1</td>\n",
              "    </tr>\n",
              "    <tr>\n",
              "      <th>3</th>\n",
              "      <td>70</td>\n",
              "      <td>2853.0</td>\n",
              "      <td>1989</td>\n",
              "      <td>25.0</td>\n",
              "      <td>1</td>\n",
              "    </tr>\n",
              "    <tr>\n",
              "      <th>4</th>\n",
              "      <td>82</td>\n",
              "      <td>3425.0</td>\n",
              "      <td>1982</td>\n",
              "      <td>32.0</td>\n",
              "      <td>1</td>\n",
              "    </tr>\n",
              "    <tr>\n",
              "      <th>5</th>\n",
              "      <td>82</td>\n",
              "      <td>3148.0</td>\n",
              "      <td>1939</td>\n",
              "      <td>26.0</td>\n",
              "      <td>1</td>\n",
              "    </tr>\n",
              "  </tbody>\n",
              "</table>\n",
              "</div>"
            ],
            "text/plain": [
              "   GP     MIN   PTS   AGE  eff_mean_exceed_NBA_approach\n",
              "0  79  3163.0  2344  28.0                             1\n",
              "1  82  3126.0  2107  23.0                             1\n",
              "2  82  2947.0  2095  37.0                             1\n",
              "3  70  2853.0  1989  25.0                             1\n",
              "4  82  3425.0  1982  32.0                             1\n",
              "5  82  3148.0  1939  26.0                             1"
            ]
          },
          "metadata": {
            "tags": []
          },
          "execution_count": 116
        }
      ]
    },
    {
      "cell_type": "markdown",
      "metadata": {
        "id": "Ksb922Rlc6Lu"
      },
      "source": [
        "<font color = \"brown\">\r\n",
        "<font size = 4px>\r\n",
        "Similarly, in the dataframe above, four of features and the binary representation that whether player point of NBA's approach exceed its mean or not. We are trying to learn whether NBA's efficieny model is applicable or not.\r\n",
        "</font>"
      ]
    },
    {
      "cell_type": "code",
      "metadata": {
        "colab": {
          "base_uri": "https://localhost:8080/"
        },
        "id": "lvsRQ6ZFZU4g",
        "outputId": "9430103d-78a8-4ad5-a420-ab90eb54ac31"
      },
      "source": [
        "# Splitting to data to three parts; train data, validation data and test data\r\n",
        "x_train_our_approach, x_valid_and_test_our_approach, y_train_our_approach, y_valid_and_test_our_approach = train_test_split(ml_df_our_approach[[\"GP\", \"MIN\", \"PTS\", \"AGE\"]], ml_df_our_approach[\"eff_mean_exceed_our_approach\"], test_size = 0.2, random_state = 42)\r\n",
        "x_val_our_approach, x_test_our_approach, y_val_our_approach, y_test_our_approach = train_test_split(x_valid_and_test_our_approach, y_valid_and_test_our_approach, test_size = 0.5, random_state = 42)\r\n",
        "\r\n",
        "# Implementing Decision Tree Algorithm and finding its accuracy on our approach\r\n",
        "decision_tree_our_approach = DecisionTreeClassifier(criterion = \"entropy\")\r\n",
        "decision_tree_our_approach.fit(x_train_our_approach, y_train_our_approach)\r\n",
        "accuracy_dt_our_approach = accuracy_score(y_val_our_approach, decision_tree_our_approach.predict(x_val_our_approach))\r\n",
        "print(\"Decision Tree Algorithm Accuracy (our approach): \", round(100 * accuracy_dt_our_approach, 4), \"%\", sep = \"\")\r\n",
        "\r\n",
        "# Implementing Random Forest Algorithm and finding its accuracy on our approach\r\n",
        "random_forest_our_approach = RandomForestClassifier(criterion = \"entropy\", random_state = 42, n_estimators = 100, min_samples_split = 2)\r\n",
        "random_forest_our_approach.fit(x_train_our_approach, y_train_our_approach)\r\n",
        "accuracy_rf_our_approach = accuracy_score(y_val_our_approach, random_forest_our_approach.predict(x_val_our_approach))\r\n",
        "print(\"Random Forest Algorithm Accuracy (our approach): \", round(100 * accuracy_rf_our_approach, 4), \"%\", sep = \"\")\r\n",
        "\r\n",
        "# Implementing Random Forest Algorithm with best hyperparameters and finding its accuracy on our approach\r\n",
        "parameters = {\"min_samples_split\":[2, 4], \"n_estimators\":[100, 200, 300]}\r\n",
        "rf_grid_our_approach = GridSearchCV(estimator = RandomForestClassifier(criterion = \"entropy\", random_state = 42), param_grid = parameters)\r\n",
        "rf_grid_our_approach.fit(x_train_our_approach, y_train_our_approach)\r\n",
        "accuracy_rfgrid_our_approach = accuracy_score(y_val_our_approach, rf_grid_our_approach.predict(x_val_our_approach))\r\n",
        "print(\"Random Forest Algorithm Accuracy with best hyperparameters (our approach): \", round(100 * accuracy_rfgrid_our_approach, 4), \"%\", sep = \"\")"
      ],
      "execution_count": null,
      "outputs": [
        {
          "output_type": "stream",
          "text": [
            "Decision Tree Algorithm Accuracy (our approach): 50.0%\n",
            "Random Forest Algorithm Accuracy (our approach): 54.2623%\n",
            "Random Forest Algorithm Accuracy with best hyperparameters (our approach): 54.2623%\n"
          ],
          "name": "stdout"
        }
      ]
    },
    {
      "cell_type": "code",
      "metadata": {
        "colab": {
          "base_uri": "https://localhost:8080/"
        },
        "id": "tdM-Ug7pceiU",
        "outputId": "22042060-7257-4a14-d03d-d64dc8d5573e"
      },
      "source": [
        "# Splitting to data to three parts; train data, validation data and test data\r\n",
        "x_train_NBA_approach, x_valid_and_test_NBA_approach, y_train_NBA_approach, y_valid_and_test_NBA_approach = train_test_split(ml_df_NBA_approach[[\"GP\", \"MIN\", \"PTS\", \"AGE\"]], ml_df_NBA_approach[\"eff_mean_exceed_NBA_approach\"], test_size = 0.2, random_state = 42)\r\n",
        "x_val_NBA_approach, x_test_NBA_approach, y_val_NBA_approach, y_test_NBA_approach = train_test_split(x_valid_and_test_NBA_approach, y_valid_and_test_NBA_approach, test_size = 0.5, random_state = 42)\r\n",
        "\r\n",
        "# Implementing Decision Tree Algorithm and finding its accuracy on NBA's approach\r\n",
        "decision_tree_NBA_approach = DecisionTreeClassifier(criterion = \"entropy\")\r\n",
        "decision_tree_NBA_approach.fit(x_train_NBA_approach, y_train_NBA_approach)\r\n",
        "accuracy_dt_NBA_approach = accuracy_score(y_val_NBA_approach, decision_tree_NBA_approach.predict(x_val_NBA_approach))\r\n",
        "print(\"Decision Tree Algorithm Accuracy (NBA approach): \", round(100 * accuracy_dt_NBA_approach, 4), \"%\", sep = \"\")\r\n",
        "\r\n",
        "# Implementing Random Forest Algorithm and finding its accuracy on NBA's approach\r\n",
        "random_forest_NBA_approach = RandomForestClassifier(criterion = \"entropy\", random_state = 42, n_estimators = 100, min_samples_split = 2)\r\n",
        "random_forest_NBA_approach.fit(x_train_NBA_approach, y_train_NBA_approach)\r\n",
        "accuracy_rf_NBA_approach = accuracy_score(y_val_NBA_approach, random_forest_NBA_approach.predict(x_val_NBA_approach))\r\n",
        "print(\"Random Forest Algorithm Accuracy (NBA approach): \", round(100 * accuracy_rf_NBA_approach, 4), \"%\", sep = \"\")\r\n",
        "\r\n",
        "# Implementing Random Forest Algorithm with best hyperparameters and finding its accuracy on NBA's approach\r\n",
        "parameters = {\"min_samples_split\":[2, 4], \"n_estimators\":[100, 200, 300]}\r\n",
        "rf_grid_NBA_approach = GridSearchCV(estimator = RandomForestClassifier(criterion = \"entropy\", random_state = 42), param_grid = parameters)\r\n",
        "rf_grid_NBA_approach.fit(x_train_NBA_approach, y_train_NBA_approach)\r\n",
        "accuracy_rfgrid_NBA_approach = accuracy_score(y_val_NBA_approach, rf_grid_NBA_approach.predict(x_val_NBA_approach))\r\n",
        "print(\"Random Forest Algorithm Accuracy with best hyperparameters (NBA approach): \", round(100 * accuracy_rfgrid_NBA_approach, 4), \"%\", sep = \"\")"
      ],
      "execution_count": null,
      "outputs": [
        {
          "output_type": "stream",
          "text": [
            "Decision Tree Algorithm Accuracy (NBA approach): 92.7869%\n",
            "Random Forest Algorithm Accuracy (NBA approach): 94.5902%\n",
            "Random Forest Algorithm Accuracy with best hyperparameters (NBA approach): 94.918%\n"
          ],
          "name": "stdout"
        }
      ]
    },
    {
      "cell_type": "markdown",
      "metadata": {
        "id": "f8N8Ngcnqehm"
      },
      "source": [
        "### Results & Discussion\r\n",
        "\r\n",
        "In this part of the project, we discussed about players and their efficiency scores. First, we determined efficiency score by looking features such as FGM, FGA, 3PM and 3PA in the data and we finalized the our efficiency formula as \r\n",
        "\"(FGM x 2) + (3PM x 3) / (FGA x 2) + (3PA x 3)\".\r\n",
        "\r\n",
        "We applied this formula for all of the NBA players, and checked if the player's efficiency average is higher than the mean of efficiency, we counted that player as exceeded average player.\r\n",
        "\r\n",
        "We also applied the formula that NBA determined for all of the NBA players again and if the player exceed the average, we count player as exceeded average player.\r\n",
        "\r\n",
        "We got two large data of same NBA players, the only difference of the two data is calculation of the efficiency score. We separated datas into 3 parts for training (80% of data), validation (10% of data) and test (10% of data). After we split these two data, we compared two different efficiency scores with using two different Machine Learning methods for each data. \r\n",
        "\r\n",
        "Firstly, we used Decision Tree. After we got the first results, we found that our calculation method is inefficient. We got 50.0% accuracy. On the other hand, NBA’s current efficiency calculator had 92.7% accuracy. Then, we used Random Forest Algorithm. The accuracy scores of both calculations increased. Our efficiency score had 54.3% accuracy and NBA’s current efficiency score had %94.9 accuracy. \r\n",
        "\r\n",
        "As it can be easily observed, there is 4.3% increase on accuracy between machine learning methods for our approach. Also, there is 2.2% increase on accuracy on the data with NBA's efficiency score calculation.\r\n",
        "\r\n",
        "If we compare two of the Machine Learning methods that we used, accuracy-wise Random Forest Algorithm is better than Decision Tree Algorithm for the both cases. In the Random Forest Algorithm we had more control on the over-fitting where it resulted to increase the accuracy."
      ]
    },
    {
      "cell_type": "code",
      "metadata": {
        "colab": {
          "base_uri": "https://localhost:8080/",
          "height": 425
        },
        "id": "mdGKx2fInxzM",
        "outputId": "d3cc9c65-e4e8-4993-8f42-6ebd7c498c21"
      },
      "source": [
        "# Visualizing the results on the test datas\r\n",
        "fig, ax = plt.subplots(1, 2)\r\n",
        "fig.set_size_inches(15, 6)\r\n",
        "matrix_our_approach = confusion_matrix(y_test_our_approach, rf_grid_our_approach.predict(x_test_our_approach))\r\n",
        "matrix_NBA_approach = confusion_matrix(y_test_NBA_approach, rf_grid_NBA_approach.predict(x_test_NBA_approach))\r\n",
        "sns.heatmap(matrix_our_approach, ax = ax[0], annot = True, fmt = 'd')\r\n",
        "ax[0].set_title('Our Approach\\n')\r\n",
        "ax[0].set_xlabel('Predicted Label')\r\n",
        "ax[0].set_ylabel('Actual Label')\r\n",
        "sns.heatmap(matrix_NBA_approach, ax = ax[1], annot = True, fmt = 'd')\r\n",
        "ax[1].set_title('NBA\\'s Approach\\n')\r\n",
        "ax[1].set_xlabel('Predicted Label')\r\n",
        "ax[1].set_ylabel('Actual Label')\r\n",
        "plt.show()"
      ],
      "execution_count": null,
      "outputs": [
        {
          "output_type": "display_data",
          "data": {
            "image/png": "[encoded data removed]",
            "text/plain": [
              "<Figure size 1080x432 with 4 Axes>"
            ]
          },
          "metadata": {
            "tags": []
          }
        }
      ]
    },
    {
      "cell_type": "markdown",
      "metadata": {
        "id": "mgUf3iEkdcXk"
      },
      "source": [
        "<font color = \"brown\">\r\n",
        "<font size = 4px>\r\n",
        "In the visualization on above, we tried to compare our approach and NBA's approach. According to the findings, NBA's approach for efficiency is much more applicable than our approach as it has more successful for qualifying the player whether he is effective or not. As it can be inferred from the heatmaps that NBA has more accuracy on recognizing effective players as correctly effective (which corresponds to TP).\r\n",
        "</font>"
      ]
    },
    {
      "cell_type": "markdown",
      "metadata": {
        "id": "wenwcKY7qnaj"
      },
      "source": [
        "## Conclusion\r\n",
        "\r\n",
        "In the progress report, we determined the star players of each team and calculated the efficiency score for these players. In conclusion, we got finalist teams for every season and tried to predict the winner based on the star players. This situation leads to lack of data as we have just 19 seasons in hand and we ignore many players as we just use star players in teams. \r\n",
        "\r\n",
        "However, in this report, we changed our approach and tried to look our efficiency scores’ reliability. We also found NBA’s current efficiency calculating method. Then, we compared NBA’s and our method of calculation based on several machine learning methods.\r\n",
        "\r\n",
        "The main reason that our efficiency score is inefficient is because of the lack of features while calculating the efficiency score of each player. When we are trying to calculate efficiency score of each player, in our method we used four features whereas NBA used ten features. Because of the difference on the number of features NBA's efficiency calculation is more comprehensive.\r\n",
        "\r\n",
        "Features of Our Approach: FGA, FGM, 3PA, 3PM\r\n",
        "\r\n",
        "Features of NBA's Approach: PTS, REB, AST, STL, BLK, FGA, FGM, FTA, FTM, TOV"
      ]
    },
    {
      "cell_type": "markdown",
      "metadata": {
        "id": "7iqQXh-dmQHb"
      },
      "source": [
        "## Future Work\r\n",
        "\r\n",
        "It can be implemented new efficiency scores that will be more accurate. Also, the prediction features can be extended to get more accurate results."
      ]
    },
    {
      "cell_type": "markdown",
      "metadata": {
        "id": "iuBH6DnamP-H"
      },
      "source": [
        "## Work Division\r\n",
        "\r\n",
        "Ali Arda Girgin: Implementing the Introduction part, determining problem and utilizing the data for Data Exploration / completed the Machine Learning part\r\n",
        "\r\n",
        "Efe Alpay: Determining problem and utilizing the data for Data Exploration / implemented the graphics of Machine Learning part\r\n",
        "\r\n",
        "Eren Mutlu: Searching about Machine Learning Algorithms and trying them / setting up the Conclusion part / came up with ideas for future work\r\n",
        "\r\n",
        "Kamil Atakan Çelikyürek: Coding part of the Data Exploration / completed the Machine Learning part"
      ]
    }
  ]
}